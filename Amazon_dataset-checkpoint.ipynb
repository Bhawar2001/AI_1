{
 "cells": [
  {
   "cell_type": "code",
   "execution_count": 1,
   "id": "2d69f20c-9413-4918-9b3b-8286914c01c6",
   "metadata": {
    "tags": []
   },
   "outputs": [],
   "source": [
    "\n",
    "import pandas as pd\n",
    "import matplotlib.pyplot as plt\n",
    "import seaborn as sns \n",
    "import plotly.express as px \n",
    "from matplotlib import style\n",
    "style.use('ggplot')\n",
    "import re\n",
    "import nltk\n",
    "from nltk.tokenize import word_tokenize\n",
    "from nltk.stem import PorterStemmer\n",
    "from nltk.corpus import stopwords\n",
    "\n",
    "from wordcloud import wordcloud\n",
    "from sklearn.feature_extraction.text import TfidfVectorizer                   \n",
    "from sklearn.model_selection import train_test_split "
   ]
  },
  {
   "cell_type": "code",
   "execution_count": 2,
   "id": "638f962e-5c6b-410c-b78c-2a4b6f00db4f",
   "metadata": {
    "tags": []
   },
   "outputs": [
    {
     "data": {
      "text/html": [
       "<div>\n",
       "<style scoped>\n",
       "    .dataframe tbody tr th:only-of-type {\n",
       "        vertical-align: middle;\n",
       "    }\n",
       "\n",
       "    .dataframe tbody tr th {\n",
       "        vertical-align: top;\n",
       "    }\n",
       "\n",
       "    .dataframe thead th {\n",
       "        text-align: right;\n",
       "    }\n",
       "</style>\n",
       "<table border=\"1\" class=\"dataframe\">\n",
       "  <thead>\n",
       "    <tr style=\"text-align: right;\">\n",
       "      <th></th>\n",
       "      <th>Element name</th>\n",
       "      <th>Description</th>\n",
       "      <th>Data type</th>\n",
       "      <th>Character length</th>\n",
       "      <th>Acceptable Values</th>\n",
       "      <th>Required</th>\n",
       "      <th>Accepts null</th>\n",
       "    </tr>\n",
       "  </thead>\n",
       "  <tbody>\n",
       "    <tr>\n",
       "      <th>0</th>\n",
       "      <td>HS_data</td>\n",
       "      <td>GeoScout Holland Scientific data logger record...</td>\n",
       "      <td>serial</td>\n",
       "      <td>NaN</td>\n",
       "      <td>NaN</td>\n",
       "      <td>NaN</td>\n",
       "      <td>NaN</td>\n",
       "    </tr>\n",
       "    <tr>\n",
       "      <th>1</th>\n",
       "      <td>LONGITUDE</td>\n",
       "      <td>GPS global meridian coordinate in decimal degrees</td>\n",
       "      <td>float</td>\n",
       "      <td>13.0</td>\n",
       "      <td>-ddd.mmmmmm</td>\n",
       "      <td>y</td>\n",
       "      <td>y</td>\n",
       "    </tr>\n",
       "    <tr>\n",
       "      <th>2</th>\n",
       "      <td>LATITUDE</td>\n",
       "      <td>GPS global parallel coordinate in decimal degrees</td>\n",
       "      <td>float</td>\n",
       "      <td>10.0</td>\n",
       "      <td>dd.mmmmmmm</td>\n",
       "      <td>y</td>\n",
       "      <td>y</td>\n",
       "    </tr>\n",
       "    <tr>\n",
       "      <th>3</th>\n",
       "      <td>ELEVATION</td>\n",
       "      <td>GPS meters above sea-level geoid</td>\n",
       "      <td>float</td>\n",
       "      <td>5.0</td>\n",
       "      <td>x.x</td>\n",
       "      <td>y</td>\n",
       "      <td>y</td>\n",
       "    </tr>\n",
       "    <tr>\n",
       "      <th>4</th>\n",
       "      <td>FIX_TYPE</td>\n",
       "      <td>GPS signal indication 2=WASS DGPS for better a...</td>\n",
       "      <td>integer</td>\n",
       "      <td>1.0</td>\n",
       "      <td>1 to 2</td>\n",
       "      <td>n</td>\n",
       "      <td>y</td>\n",
       "    </tr>\n",
       "  </tbody>\n",
       "</table>\n",
       "</div>"
      ],
      "text/plain": [
       "  Element name                                        Description Data type  \\\n",
       "0      HS_data  GeoScout Holland Scientific data logger record...    serial   \n",
       "1    LONGITUDE  GPS global meridian coordinate in decimal degrees     float   \n",
       "2     LATITUDE  GPS global parallel coordinate in decimal degrees     float   \n",
       "3    ELEVATION                   GPS meters above sea-level geoid     float   \n",
       "4     FIX_TYPE  GPS signal indication 2=WASS DGPS for better a...   integer   \n",
       "\n",
       "   Character length Acceptable Values Required Accepts null  \n",
       "0               NaN               NaN      NaN          NaN  \n",
       "1              13.0       -ddd.mmmmmm        y            y  \n",
       "2              10.0        dd.mmmmmmm        y            y  \n",
       "3               5.0               x.x        y            y  \n",
       "4               1.0            1 to 2        n            y  "
      ]
     },
     "execution_count": 2,
     "metadata": {},
     "output_type": "execute_result"
    }
   ],
   "source": [
    "df = pd.read_csv('Amazon Dataset.csv')\n",
    "df.head()"
   ]
  },
  {
   "cell_type": "code",
   "execution_count": 3,
   "id": "13aeff2e-cb24-42db-91ca-fc05d6984d57",
   "metadata": {
    "tags": []
   },
   "outputs": [
    {
     "data": {
      "text/plain": [
       "(60, 7)"
      ]
     },
     "execution_count": 3,
     "metadata": {},
     "output_type": "execute_result"
    }
   ],
   "source": [
    "df.shape"
   ]
  },
  {
   "cell_type": "code",
   "execution_count": 4,
   "id": "3a8c629b-e936-4950-8092-842cfc9ed5e7",
   "metadata": {
    "tags": []
   },
   "outputs": [
    {
     "name": "stdout",
     "output_type": "stream",
     "text": [
      "<class 'pandas.core.frame.DataFrame'>\n",
      "RangeIndex: 60 entries, 0 to 59\n",
      "Data columns (total 7 columns):\n",
      " #   Column             Non-Null Count  Dtype  \n",
      "---  ------             --------------  -----  \n",
      " 0   Element name       60 non-null     object \n",
      " 1   Description        60 non-null     object \n",
      " 2   Data type          59 non-null     object \n",
      " 3   Character length   57 non-null     float64\n",
      " 4   Acceptable Values  57 non-null     object \n",
      " 5   Required           57 non-null     object \n",
      " 6   Accepts null       57 non-null     object \n",
      "dtypes: float64(1), object(6)\n",
      "memory usage: 3.4+ KB\n"
     ]
    }
   ],
   "source": [
    "df.info()"
   ]
  },
  {
   "cell_type": "code",
   "execution_count": 6,
   "id": "9dc34336-d928-4250-a976-eb614fbbd32f",
   "metadata": {
    "tags": []
   },
   "outputs": [
    {
     "data": {
      "text/html": [
       "<div>\n",
       "<style scoped>\n",
       "    .dataframe tbody tr th:only-of-type {\n",
       "        vertical-align: middle;\n",
       "    }\n",
       "\n",
       "    .dataframe tbody tr th {\n",
       "        vertical-align: top;\n",
       "    }\n",
       "\n",
       "    .dataframe thead th {\n",
       "        text-align: right;\n",
       "    }\n",
       "</style>\n",
       "<table border=\"1\" class=\"dataframe\">\n",
       "  <thead>\n",
       "    <tr style=\"text-align: right;\">\n",
       "      <th></th>\n",
       "      <th>Element name</th>\n",
       "      <th>Description</th>\n",
       "      <th>Data type</th>\n",
       "      <th>Character length</th>\n",
       "      <th>Acceptable Values</th>\n",
       "      <th>Required</th>\n",
       "      <th>Accepts null</th>\n",
       "    </tr>\n",
       "  </thead>\n",
       "  <tbody>\n",
       "    <tr>\n",
       "      <th>0</th>\n",
       "      <td>HS_data</td>\n",
       "      <td>GeoScout Holland Scientific data logger record...</td>\n",
       "      <td>serial</td>\n",
       "      <td>NaN</td>\n",
       "      <td>NaN</td>\n",
       "      <td>NaN</td>\n",
       "      <td>NaN</td>\n",
       "    </tr>\n",
       "    <tr>\n",
       "      <th>1</th>\n",
       "      <td>LONGITUDE</td>\n",
       "      <td>GPS global meridian coordinate in decimal degrees</td>\n",
       "      <td>float</td>\n",
       "      <td>13.0</td>\n",
       "      <td>-ddd.mmmmmm</td>\n",
       "      <td>y</td>\n",
       "      <td>y</td>\n",
       "    </tr>\n",
       "    <tr>\n",
       "      <th>2</th>\n",
       "      <td>LATITUDE</td>\n",
       "      <td>GPS global parallel coordinate in decimal degrees</td>\n",
       "      <td>float</td>\n",
       "      <td>10.0</td>\n",
       "      <td>dd.mmmmmmm</td>\n",
       "      <td>y</td>\n",
       "      <td>y</td>\n",
       "    </tr>\n",
       "    <tr>\n",
       "      <th>3</th>\n",
       "      <td>ELEVATION</td>\n",
       "      <td>GPS meters above sea-level geoid</td>\n",
       "      <td>float</td>\n",
       "      <td>5.0</td>\n",
       "      <td>x.x</td>\n",
       "      <td>y</td>\n",
       "      <td>y</td>\n",
       "    </tr>\n",
       "    <tr>\n",
       "      <th>4</th>\n",
       "      <td>FIX_TYPE</td>\n",
       "      <td>GPS signal indication 2=WASS DGPS for better a...</td>\n",
       "      <td>integer</td>\n",
       "      <td>1.0</td>\n",
       "      <td>1 to 2</td>\n",
       "      <td>n</td>\n",
       "      <td>y</td>\n",
       "    </tr>\n",
       "  </tbody>\n",
       "</table>\n",
       "</div>"
      ],
      "text/plain": [
       "  Element name                                        Description Data type  \\\n",
       "0      HS_data  GeoScout Holland Scientific data logger record...    serial   \n",
       "1    LONGITUDE  GPS global meridian coordinate in decimal degrees     float   \n",
       "2     LATITUDE  GPS global parallel coordinate in decimal degrees     float   \n",
       "3    ELEVATION                   GPS meters above sea-level geoid     float   \n",
       "4     FIX_TYPE  GPS signal indication 2=WASS DGPS for better a...   integer   \n",
       "\n",
       "   Character length Acceptable Values Required Accepts null  \n",
       "0               NaN               NaN      NaN          NaN  \n",
       "1              13.0       -ddd.mmmmmm        y            y  \n",
       "2              10.0        dd.mmmmmmm        y            y  \n",
       "3               5.0               x.x        y            y  \n",
       "4               1.0            1 to 2        n            y  "
      ]
     },
     "execution_count": 6,
     "metadata": {},
     "output_type": "execute_result"
    }
   ],
   "source": [
    "df.head(5)"
   ]
  },
  {
   "cell_type": "code",
   "execution_count": 7,
   "id": "cd0d9a18-de38-4634-bcba-0c1221a91001",
   "metadata": {
    "tags": []
   },
   "outputs": [
    {
     "data": {
      "text/html": [
       "<div>\n",
       "<style scoped>\n",
       "    .dataframe tbody tr th:only-of-type {\n",
       "        vertical-align: middle;\n",
       "    }\n",
       "\n",
       "    .dataframe tbody tr th {\n",
       "        vertical-align: top;\n",
       "    }\n",
       "\n",
       "    .dataframe thead th {\n",
       "        text-align: right;\n",
       "    }\n",
       "</style>\n",
       "<table border=\"1\" class=\"dataframe\">\n",
       "  <thead>\n",
       "    <tr style=\"text-align: right;\">\n",
       "      <th></th>\n",
       "      <th>Element name</th>\n",
       "      <th>Description</th>\n",
       "      <th>Data type</th>\n",
       "      <th>Character length</th>\n",
       "      <th>Acceptable Values</th>\n",
       "      <th>Required</th>\n",
       "      <th>Accepts null</th>\n",
       "    </tr>\n",
       "  </thead>\n",
       "  <tbody>\n",
       "    <tr>\n",
       "      <th>55</th>\n",
       "      <td>Day_of_Year</td>\n",
       "      <td>CS Logger derived Julian Day of Year of record</td>\n",
       "      <td>integer</td>\n",
       "      <td>3.0</td>\n",
       "      <td>xxx</td>\n",
       "      <td>n</td>\n",
       "      <td>y</td>\n",
       "    </tr>\n",
       "    <tr>\n",
       "      <th>56</th>\n",
       "      <td>SonicV</td>\n",
       "      <td>Madison ultrasonic test sensor raw signal volt...</td>\n",
       "      <td>float</td>\n",
       "      <td>8.0</td>\n",
       "      <td>x.xxxxxx</td>\n",
       "      <td>n</td>\n",
       "      <td>y</td>\n",
       "    </tr>\n",
       "    <tr>\n",
       "      <th>57</th>\n",
       "      <td>Mad_Inches</td>\n",
       "      <td>Madison ultrasonic test sensor calculated dist...</td>\n",
       "      <td>integer</td>\n",
       "      <td>2.0</td>\n",
       "      <td>xx</td>\n",
       "      <td>n</td>\n",
       "      <td>y</td>\n",
       "    </tr>\n",
       "    <tr>\n",
       "      <th>58</th>\n",
       "      <td>ParallaxTime</td>\n",
       "      <td>Parallax ultrasonic test sensor raw Pulse Widt...</td>\n",
       "      <td>float</td>\n",
       "      <td>8.0</td>\n",
       "      <td>xxxx.xxx</td>\n",
       "      <td>n</td>\n",
       "      <td>y</td>\n",
       "    </tr>\n",
       "    <tr>\n",
       "      <th>59</th>\n",
       "      <td>Parallax_Inches</td>\n",
       "      <td>Parallax ultrasonic test sensor calculated dis...</td>\n",
       "      <td>float</td>\n",
       "      <td>5.0</td>\n",
       "      <td>xx.xx</td>\n",
       "      <td>n</td>\n",
       "      <td>y</td>\n",
       "    </tr>\n",
       "  </tbody>\n",
       "</table>\n",
       "</div>"
      ],
      "text/plain": [
       "       Element name                                        Description  \\\n",
       "55      Day_of_Year     CS Logger derived Julian Day of Year of record   \n",
       "56           SonicV  Madison ultrasonic test sensor raw signal volt...   \n",
       "57       Mad_Inches  Madison ultrasonic test sensor calculated dist...   \n",
       "58     ParallaxTime  Parallax ultrasonic test sensor raw Pulse Widt...   \n",
       "59  Parallax_Inches  Parallax ultrasonic test sensor calculated dis...   \n",
       "\n",
       "   Data type  Character length Acceptable Values Required Accepts null  \n",
       "55   integer               3.0               xxx        n            y  \n",
       "56     float               8.0          x.xxxxxx        n            y  \n",
       "57   integer               2.0                xx        n            y  \n",
       "58     float               8.0          xxxx.xxx        n            y  \n",
       "59     float               5.0             xx.xx        n            y  "
      ]
     },
     "execution_count": 7,
     "metadata": {},
     "output_type": "execute_result"
    }
   ],
   "source": [
    "df.tail(5)"
   ]
  },
  {
   "cell_type": "code",
   "execution_count": 8,
   "id": "2e7aa0b7-cca7-4e75-9d19-e9d212cc365f",
   "metadata": {
    "tags": []
   },
   "outputs": [
    {
     "data": {
      "text/plain": [
       "Text(0.5, 1.0, 'Description ')"
      ]
     },
     "execution_count": 8,
     "metadata": {},
     "output_type": "execute_result"
    },
    {
     "data": {
      "image/png": "[encoded data removed]",
      "text/plain": [
       "<Figure size 640x480 with 1 Axes>"
      ]
     },
     "metadata": {},
     "output_type": "display_data"
    }
   ],
   "source": [
    "sns.countplot(x='Description', data=df)\n",
    "plt.title(\"Description \")"
   ]
  },
  {
   "cell_type": "code",
   "execution_count": 9,
   "id": "5e5ca80c-b639-4b6d-b17e-90b5fbc56de8",
   "metadata": {
    "tags": []
   },
   "outputs": [
    {
     "name": "stdout",
     "output_type": "stream",
     "text": [
      "Element name:  [0]\n",
      "HS_data \n",
      "\n",
      "Description:  GeoScout Holland Scientific data logger recording CropCircle sensor outputs \n",
      "\n",
      "\n",
      "Element name:  [1]\n",
      "LONGITUDE \n",
      "\n",
      "Description:  GPS global meridian coordinate in decimal degrees \n",
      "\n",
      "\n",
      "Element name:  [2]\n",
      "LATITUDE \n",
      "\n",
      "Description:  GPS global parallel coordinate in decimal degrees \n",
      "\n",
      "\n",
      "Element name:  [3]\n",
      "ELEVATION \n",
      "\n",
      "Description:  GPS meters above sea-level geoid \n",
      "\n",
      "\n",
      "Element name:  [4]\n",
      "FIX_TYPE \n",
      "\n",
      "Description:  GPS signal indication 2=WASS DGPS for better accuracy \n",
      "\n",
      "\n"
     ]
    }
   ],
   "source": [
    "for i in range(5):\n",
    "    print(\"Element name: \", [i])\n",
    "    print(df['Element name'].iloc[i], \"\\n\")\n",
    "    print(\"Description: \", df['Description'].iloc[i], \"\\n\\n\")"
   ]
  },
  {
   "cell_type": "code",
   "execution_count": 10,
   "id": "43df7db5-5024-4b45-a8fd-9cb365f03c75",
   "metadata": {
    "tags": []
   },
   "outputs": [],
   "source": [
    "def no_of_words(text):\n",
    "    words= text.split()\n",
    "    word_count = len(words)\n",
    "    return word_count"
   ]
  },
  {
   "cell_type": "code",
   "execution_count": 11,
   "id": "67570b8f-889a-4b1a-ba97-e0d3ad0f0105",
   "metadata": {
    "tags": []
   },
   "outputs": [],
   "source": [
    "df['word count'] = df['Element name'].apply(no_of_words)"
   ]
  },
  {
   "cell_type": "code",
   "execution_count": 12,
   "id": "1b47c139-0998-4caf-a69e-55c0e69bcfac",
   "metadata": {
    "tags": []
   },
   "outputs": [
    {
     "data": {
      "text/html": [
       "<div>\n",
       "<style scoped>\n",
       "    .dataframe tbody tr th:only-of-type {\n",
       "        vertical-align: middle;\n",
       "    }\n",
       "\n",
       "    .dataframe tbody tr th {\n",
       "        vertical-align: top;\n",
       "    }\n",
       "\n",
       "    .dataframe thead th {\n",
       "        text-align: right;\n",
       "    }\n",
       "</style>\n",
       "<table border=\"1\" class=\"dataframe\">\n",
       "  <thead>\n",
       "    <tr style=\"text-align: right;\">\n",
       "      <th></th>\n",
       "      <th>Element name</th>\n",
       "      <th>Description</th>\n",
       "      <th>Data type</th>\n",
       "      <th>Character length</th>\n",
       "      <th>Acceptable Values</th>\n",
       "      <th>Required</th>\n",
       "      <th>Accepts null</th>\n",
       "      <th>word count</th>\n",
       "    </tr>\n",
       "  </thead>\n",
       "  <tbody>\n",
       "    <tr>\n",
       "      <th>0</th>\n",
       "      <td>HS_data</td>\n",
       "      <td>GeoScout Holland Scientific data logger record...</td>\n",
       "      <td>serial</td>\n",
       "      <td>NaN</td>\n",
       "      <td>NaN</td>\n",
       "      <td>NaN</td>\n",
       "      <td>NaN</td>\n",
       "      <td>1</td>\n",
       "    </tr>\n",
       "    <tr>\n",
       "      <th>1</th>\n",
       "      <td>LONGITUDE</td>\n",
       "      <td>GPS global meridian coordinate in decimal degrees</td>\n",
       "      <td>float</td>\n",
       "      <td>13.0</td>\n",
       "      <td>-ddd.mmmmmm</td>\n",
       "      <td>y</td>\n",
       "      <td>y</td>\n",
       "      <td>1</td>\n",
       "    </tr>\n",
       "    <tr>\n",
       "      <th>2</th>\n",
       "      <td>LATITUDE</td>\n",
       "      <td>GPS global parallel coordinate in decimal degrees</td>\n",
       "      <td>float</td>\n",
       "      <td>10.0</td>\n",
       "      <td>dd.mmmmmmm</td>\n",
       "      <td>y</td>\n",
       "      <td>y</td>\n",
       "      <td>1</td>\n",
       "    </tr>\n",
       "    <tr>\n",
       "      <th>3</th>\n",
       "      <td>ELEVATION</td>\n",
       "      <td>GPS meters above sea-level geoid</td>\n",
       "      <td>float</td>\n",
       "      <td>5.0</td>\n",
       "      <td>x.x</td>\n",
       "      <td>y</td>\n",
       "      <td>y</td>\n",
       "      <td>1</td>\n",
       "    </tr>\n",
       "    <tr>\n",
       "      <th>4</th>\n",
       "      <td>FIX_TYPE</td>\n",
       "      <td>GPS signal indication 2=WASS DGPS for better a...</td>\n",
       "      <td>integer</td>\n",
       "      <td>1.0</td>\n",
       "      <td>1 to 2</td>\n",
       "      <td>n</td>\n",
       "      <td>y</td>\n",
       "      <td>1</td>\n",
       "    </tr>\n",
       "  </tbody>\n",
       "</table>\n",
       "</div>"
      ],
      "text/plain": [
       "  Element name                                        Description Data type  \\\n",
       "0      HS_data  GeoScout Holland Scientific data logger record...    serial   \n",
       "1    LONGITUDE  GPS global meridian coordinate in decimal degrees     float   \n",
       "2     LATITUDE  GPS global parallel coordinate in decimal degrees     float   \n",
       "3    ELEVATION                   GPS meters above sea-level geoid     float   \n",
       "4     FIX_TYPE  GPS signal indication 2=WASS DGPS for better a...   integer   \n",
       "\n",
       "   Character length Acceptable Values Required Accepts null  word count  \n",
       "0               NaN               NaN      NaN          NaN           1  \n",
       "1              13.0       -ddd.mmmmmm        y            y           1  \n",
       "2              10.0        dd.mmmmmmm        y            y           1  \n",
       "3               5.0               x.x        y            y           1  \n",
       "4               1.0            1 to 2        n            y           1  "
      ]
     },
     "execution_count": 12,
     "metadata": {},
     "output_type": "execute_result"
    }
   ],
   "source": [
    "df.head()"
   ]
  },
  {
   "cell_type": "code",
   "execution_count": 15,
   "id": "c04b111c-e465-4b9d-8ed9-cad3d93f63e0",
   "metadata": {
    "tags": []
   },
   "outputs": [
    {
     "data": {
      "image/png": "[encoded data removed]",
      "text/plain": [
       "<Figure size 1600x900 with 2 Axes>"
      ]
     },
     "metadata": {},
     "output_type": "display_data"
    }
   ],
   "source": [
    "plt.figure(figsize=(16,9))\n",
    "sns.heatmap(df.isnull())\n",
    "plt.savefig(\"EDA_img/heatmap_DF_of_null_values.png\")"
   ]
  },
  {
   "cell_type": "code",
   "execution_count": 19,
   "id": "0c1d80b1-7538-4da9-888e-be116f58d995",
   "metadata": {
    "tags": []
   },
   "outputs": [
    {
     "name": "stdout",
     "output_type": "stream",
     "text": [
      "<class 'pandas.core.frame.DataFrame'>\n",
      "RangeIndex: 60 entries, 0 to 59\n",
      "Data columns (total 8 columns):\n",
      " #   Column             Non-Null Count  Dtype  \n",
      "---  ------             --------------  -----  \n",
      " 0   Element name       60 non-null     object \n",
      " 1   Description        60 non-null     object \n",
      " 2   Data type          59 non-null     object \n",
      " 3   Character length   57 non-null     float64\n",
      " 4   Acceptable Values  57 non-null     object \n",
      " 5   Required           57 non-null     object \n",
      " 6   Accepts null       57 non-null     object \n",
      " 7   word count         60 non-null     int64  \n",
      "dtypes: float64(1), int64(1), object(6)\n",
      "memory usage: 3.9+ KB\n"
     ]
    }
   ],
   "source": [
    "df.info()"
   ]
  },
  {
   "cell_type": "code",
   "execution_count": 20,
   "id": "a03367ff-2910-4f60-bd06-d8fa54c870c9",
   "metadata": {
    "tags": []
   },
   "outputs": [
    {
     "data": {
      "text/html": [
       "<div>\n",
       "<style scoped>\n",
       "    .dataframe tbody tr th:only-of-type {\n",
       "        vertical-align: middle;\n",
       "    }\n",
       "\n",
       "    .dataframe tbody tr th {\n",
       "        vertical-align: top;\n",
       "    }\n",
       "\n",
       "    .dataframe thead th {\n",
       "        text-align: right;\n",
       "    }\n",
       "</style>\n",
       "<table border=\"1\" class=\"dataframe\">\n",
       "  <thead>\n",
       "    <tr style=\"text-align: right;\">\n",
       "      <th></th>\n",
       "      <th>Element name</th>\n",
       "      <th>Description</th>\n",
       "      <th>Data type</th>\n",
       "      <th>Character length</th>\n",
       "      <th>Acceptable Values</th>\n",
       "      <th>Required</th>\n",
       "      <th>Accepts null</th>\n",
       "      <th>word count</th>\n",
       "    </tr>\n",
       "  </thead>\n",
       "  <tbody>\n",
       "    <tr>\n",
       "      <th>0</th>\n",
       "      <td>HS_data</td>\n",
       "      <td>GeoScout Holland Scientific data logger record...</td>\n",
       "      <td>serial</td>\n",
       "      <td>NaN</td>\n",
       "      <td>NaN</td>\n",
       "      <td>NaN</td>\n",
       "      <td>NaN</td>\n",
       "      <td>1</td>\n",
       "    </tr>\n",
       "    <tr>\n",
       "      <th>1</th>\n",
       "      <td>LONGITUDE</td>\n",
       "      <td>GPS global meridian coordinate in decimal degrees</td>\n",
       "      <td>float</td>\n",
       "      <td>13.0</td>\n",
       "      <td>-ddd.mmmmmm</td>\n",
       "      <td>y</td>\n",
       "      <td>y</td>\n",
       "      <td>1</td>\n",
       "    </tr>\n",
       "    <tr>\n",
       "      <th>2</th>\n",
       "      <td>LATITUDE</td>\n",
       "      <td>GPS global parallel coordinate in decimal degrees</td>\n",
       "      <td>float</td>\n",
       "      <td>10.0</td>\n",
       "      <td>dd.mmmmmmm</td>\n",
       "      <td>y</td>\n",
       "      <td>y</td>\n",
       "      <td>1</td>\n",
       "    </tr>\n",
       "    <tr>\n",
       "      <th>3</th>\n",
       "      <td>ELEVATION</td>\n",
       "      <td>GPS meters above sea-level geoid</td>\n",
       "      <td>float</td>\n",
       "      <td>5.0</td>\n",
       "      <td>x.x</td>\n",
       "      <td>y</td>\n",
       "      <td>y</td>\n",
       "      <td>1</td>\n",
       "    </tr>\n",
       "    <tr>\n",
       "      <th>4</th>\n",
       "      <td>FIX_TYPE</td>\n",
       "      <td>GPS signal indication 2=WASS DGPS for better a...</td>\n",
       "      <td>integer</td>\n",
       "      <td>1.0</td>\n",
       "      <td>1 to 2</td>\n",
       "      <td>n</td>\n",
       "      <td>y</td>\n",
       "      <td>1</td>\n",
       "    </tr>\n",
       "  </tbody>\n",
       "</table>\n",
       "</div>"
      ],
      "text/plain": [
       "  Element name                                        Description Data type  \\\n",
       "0      HS_data  GeoScout Holland Scientific data logger record...    serial   \n",
       "1    LONGITUDE  GPS global meridian coordinate in decimal degrees     float   \n",
       "2     LATITUDE  GPS global parallel coordinate in decimal degrees     float   \n",
       "3    ELEVATION                   GPS meters above sea-level geoid     float   \n",
       "4     FIX_TYPE  GPS signal indication 2=WASS DGPS for better a...   integer   \n",
       "\n",
       "   Character length Acceptable Values Required Accepts null  word count  \n",
       "0               NaN               NaN      NaN          NaN           1  \n",
       "1              13.0       -ddd.mmmmmm        y            y           1  \n",
       "2              10.0        dd.mmmmmmm        y            y           1  \n",
       "3               5.0               x.x        y            y           1  \n",
       "4               1.0            1 to 2        n            y           1  "
      ]
     },
     "execution_count": 20,
     "metadata": {},
     "output_type": "execute_result"
    }
   ],
   "source": [
    "df.head()"
   ]
  },
  {
   "cell_type": "code",
   "execution_count": 18,
   "id": "d24bf67a-0efe-4722-a36b-8a02190f2ef2",
   "metadata": {
    "tags": []
   },
   "outputs": [
    {
     "data": {
      "text/plain": [
       "<Axes: xlabel='Description', ylabel='count'>"
      ]
     },
     "execution_count": 18,
     "metadata": {},
     "output_type": "execute_result"
    },
    {
     "data": {
      "image/png": "[encoded data removed]",
      "text/plain": [
       "<Figure size 640x480 with 1 Axes>"
      ]
     },
     "metadata": {},
     "output_type": "display_data"
    }
   ],
   "source": [
    "sns.countplot(x=\"Description\", data=df)"
   ]
  },
  {
   "cell_type": "code",
   "execution_count": 21,
   "id": "358518d7-65f8-457e-a9ef-74283a6d0c20",
   "metadata": {
    "tags": []
   },
   "outputs": [
    {
     "data": {
      "text/plain": [
       "(60, 8)"
      ]
     },
     "execution_count": 21,
     "metadata": {},
     "output_type": "execute_result"
    }
   ],
   "source": [
    "### backup of original data\n",
    "df_mvi = df.copy()\n",
    "df_mvi.shape"
   ]
  },
  {
   "cell_type": "code",
   "execution_count": null,
   "id": "85b6aeaa-a350-4561-b3a7-5dd94485dd1d",
   "metadata": {},
   "outputs": [],
   "source": []
  }
 ],
 "metadata": {
  "kernelspec": {
   "display_name": "Python 3 (ipykernel)",
   "language": "python",
   "name": "python3"
  },
  "language_info": {
   "codemirror_mode": {
    "name": "ipython",
    "version": 3
   },
   "file_extension": ".py",
   "mimetype": "text/x-python",
   "name": "python",
   "nbconvert_exporter": "python",
   "pygments_lexer": "ipython3",
   "version": "3.11.4"
  }
 },
 "nbformat": 4,
 "nbformat_minor": 5
}
